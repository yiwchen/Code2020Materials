{
 "cells": [
  {
   "cell_type": "markdown",
   "metadata": {},
   "source": [
    "# Proper Data Preprocessing Steps\n",
    "\n",
    "In this notebook we take a quick aside on how we should preprocess both our training and testing data. We'll review some more advanced pipeline techniques that were touched upon in Regression Notebook 7 as well.\n",
    "\n",
    "## What You'll Accomplish\n",
    "\n",
    "We'll:\n",
    "<ul>\n",
    "    <li>emphasize the importance of fitting transformers to the training data not the test data,</li>\n",
    "    <li>show why pipelines really are useful,</li>\n",
    "    <li>give a quick review of more advanced pipeline techniques that are also covered in Regression Notebook 7.</li>\n",
    "</ul>"
   ]
  },
  {
   "cell_type": "code",
   "execution_count": 1,
   "metadata": {},
   "outputs": [],
   "source": [
    "## For data handling\n",
    "import pandas as pd\n",
    "import numpy as np\n",
    "\n",
    "## For plotting\n",
    "import matplotlib.pyplot as plt\n",
    "import seaborn as sns\n",
    "\n",
    "## This sets the plot style\n",
    "## to have a grid on a white background\n",
    "sns.set_style(\"whitegrid\")"
   ]
  },
  {
   "cell_type": "markdown",
   "metadata": {},
   "source": [
    "## fit, transform, fit_transform, and train vs test data\n",
    "\n",
    "Many people are confused about how to properly preprocess data for example here is a image with over ten questions about the proper application of `StandardScaler` alone.\n",
    "<img src=\"train_test_question.png\" style=\"width:70%;\"></img>\n",
    "\n",
    "While this may be review for many of you, it is such an important concept that it bears repeating now that we've got a large array of preprocessing techniques.\n",
    "\n",
    "Let's start with a simple `StandardScaler` example.\n",
    "\n",
    "Recall that `StandardScaler` takes in a data set and subtracts off the arithmetic mean and divides that by the sample standard deviation <a href=\"https://scikit-learn.org/stable/modules/generated/sklearn.preprocessing.StandardScaler.html\">https://scikit-learn.org/stable/modules/generated/sklearn.preprocessing.StandardScaler.html</a>, i.e.\n",
    "$$\n",
    "\\frac{\\bullet - \\overline{X}}{s_X}\n",
    "$$\n",
    "\n",
    "\n",
    "\n",
    "We now load some random data."
   ]
  },
  {
   "cell_type": "code",
   "execution_count": 2,
   "metadata": {},
   "outputs": [],
   "source": [
    "X = 10*np.random.randn(1000) + 20"
   ]
  },
  {
   "cell_type": "code",
   "execution_count": 3,
   "metadata": {},
   "outputs": [],
   "source": [
    "# let's make a train test split\n",
    "from sklearn.model_selection import train_test_split"
   ]
  },
  {
   "cell_type": "code",
   "execution_count": 4,
   "metadata": {},
   "outputs": [],
   "source": [
    "X_train, X_test = train_test_split(X, test_size = .25, random_state = 440, shuffle=True)"
   ]
  },
  {
   "cell_type": "markdown",
   "metadata": {},
   "source": [
    "Now when you scale the training set you subtract off the training mean and divide by the training sample deviaition. What about for the test set? \n",
    "\n",
    "This is where people often get confused. While your instinct may be to scale the test data by subtracting off the test mean and dividing by the test sample deviation, this is NOT the correct approach. Instead you scale the test data by subtracting off the training mean and dividing by the training deviation. Counterituitive I know, but this is the scaling procedure that we used to train our algorithm, so we have to repeat it when we predict on new data, like the test set.\n",
    "\n",
    "This is exactly why `sklearn` `transformers` have a `fit`, a `transform`, and a `fit_transform` method."
   ]
  },
  {
   "cell_type": "code",
   "execution_count": 5,
   "metadata": {},
   "outputs": [
    {
     "name": "stdout",
     "output_type": "stream",
     "text": [
      "Train Mean 20.343719218196068\n",
      "Test Mean 20.035797954465977\n",
      "Train SD 9.959174058499645\n",
      "Test SD 9.757869041275374\n"
     ]
    }
   ],
   "source": [
    "# look at the means of the test and train\n",
    "print(\"Train Mean\",np.mean(X_train))\n",
    "print(\"Test Mean\",np.mean(X_test))\n",
    "print(\"Train SD\",np.std(X_train))\n",
    "print(\"Test SD\",np.std(X_test))"
   ]
  },
  {
   "cell_type": "code",
   "execution_count": 6,
   "metadata": {},
   "outputs": [],
   "source": [
    "from sklearn.preprocessing import StandardScaler"
   ]
  },
  {
   "cell_type": "code",
   "execution_count": 7,
   "metadata": {},
   "outputs": [],
   "source": [
    "# now we scale\n",
    "scaler = StandardScaler()\n",
    "\n",
    "X_train_scale = scaler.fit_transform(X_train.reshape(-1,1))\n",
    "X_test_scale = scaler.transform(X_test.reshape(-1,1))"
   ]
  },
  {
   "cell_type": "code",
   "execution_count": 8,
   "metadata": {},
   "outputs": [
    {
     "name": "stdout",
     "output_type": "stream",
     "text": [
      "Train Mean 1.4210854715202004e-17\n",
      "Test Mean -0.0309183534619821\n",
      "Train SD 1.0\n",
      "Test SD 0.979786976706922\n"
     ]
    }
   ],
   "source": [
    "print(\"Train Mean\",np.mean(X_train_scale))\n",
    "print(\"Test Mean\",np.mean(X_test_scale))\n",
    "print(\"Train SD\",np.std(X_train_scale))\n",
    "print(\"Test SD\",np.std(X_test_scale))"
   ]
  },
  {
   "cell_type": "markdown",
   "metadata": {},
   "source": [
    "Notice the slight difference here, the scale training set has a mean that is essentially $0$, but not the test set. Let's see what happens if I perturb the test set a little. Go ahead and play around with the value of perturb."
   ]
  },
  {
   "cell_type": "code",
   "execution_count": 9,
   "metadata": {},
   "outputs": [
    {
     "name": "stdout",
     "output_type": "stream",
     "text": [
      "Train Mean 1.4210854715202004e-17\n",
      "Test Mean 10.010074947047222\n",
      "Train SD 1.0\n",
      "Test SD 0.979786976706922\n"
     ]
    }
   ],
   "source": [
    "# now we scale\n",
    "scaler = StandardScaler()\n",
    "\n",
    "perturb = 100\n",
    "\n",
    "X_train_scale = scaler.fit_transform(X_train.reshape(-1,1))\n",
    "X_test_scale = scaler.transform(X_test.reshape(-1,1) + perturb)\n",
    "\n",
    "print(\"Train Mean\",np.mean(X_train_scale))\n",
    "print(\"Test Mean\",np.mean(X_test_scale))\n",
    "print(\"Train SD\",np.std(X_train_scale))\n",
    "print(\"Test SD\",np.std(X_test_scale))"
   ]
  },
  {
   "cell_type": "markdown",
   "metadata": {},
   "source": [
    "## Practice\n",
    "\n",
    "On your own time go through and find what is wrong with the following code."
   ]
  },
  {
   "cell_type": "code",
   "execution_count": 10,
   "metadata": {},
   "outputs": [],
   "source": [
    "# Make data\n",
    "X = np.array([2,4])*np.random.randn(100,2) + [-1,2]\n",
    "\n",
    "# I need to scale my data\n",
    "scaler = StandardScaler()\n",
    "\n",
    "X_scaled = scaler.fit_transform(X)\n",
    "\n",
    "# Now I do a train test split\n",
    "X_train, X_test = train_test_split(X_scaled,test_size=.2,random_state=44,shuffle=True)"
   ]
  },
  {
   "cell_type": "code",
   "execution_count": 11,
   "metadata": {},
   "outputs": [],
   "source": [
    "## This line of code is correct!\n",
    "from sklearn.decomposition import PCA"
   ]
  },
  {
   "cell_type": "code",
   "execution_count": 12,
   "metadata": {},
   "outputs": [],
   "source": [
    "# Make Data\n",
    "X = np.random.randn(1000,50) + np.random.randint(-100,100,(1000,50))\n",
    "\n",
    "# train test split\n",
    "X_train, X_test = train_test_split(X,test_size=.1,shuffle=True,random_state=44)\n",
    "\n",
    "# I want to perform PCA\n",
    "pca = PCA(n_components=10)\n",
    "\n",
    "X_train_pca = pca.fit_transform(X_train)\n",
    "X_test_pca = pca.fit_transform(X_test)"
   ]
  },
  {
   "cell_type": "code",
   "execution_count": 13,
   "metadata": {},
   "outputs": [],
   "source": [
    "## This chunk of code is correct!\n",
    "from sklearn.preprocessing import PolynomialFeatures,FunctionTransformer\n",
    "from sklearn.pipeline import Pipeline"
   ]
  },
  {
   "cell_type": "code",
   "execution_count": 14,
   "metadata": {},
   "outputs": [],
   "source": [
    "# a processing function\n",
    "def process(X):\n",
    "    process_X = np.zeros((np.shape(X)[0],4))\n",
    "    \n",
    "    process_X[:,0] = X[:,0]\n",
    "    process_X[:,1] = np.sqrt(X[:,1])\n",
    "    process_X[:,2] = X[:,2]\n",
    "    \n",
    "    scale = StandardScaler()\n",
    "    process_X[:,1:3] = scale.fit_transform(X[:,1:3])\n",
    "    \n",
    "    process_X[:,3] = process_X[:,0]*process_X[:,1]\n",
    "    \n",
    "    \n",
    "    return process_X"
   ]
  },
  {
   "cell_type": "code",
   "execution_count": 15,
   "metadata": {},
   "outputs": [],
   "source": [
    "# make some data\n",
    "X = np.zeros((1000,3))\n",
    "\n",
    "X[:,0] = np.random.randint(0,2,1000)\n",
    "X[:,1] = 5*np.random.random(1000) + 10\n",
    "X[:,2] = 10*np.random.randn(1000) - 12\n",
    "\n",
    "# train test split\n",
    "X_train, X_test = train_test_split(X,test_size=.1,shuffle=True,random_state=44)"
   ]
  },
  {
   "cell_type": "code",
   "execution_count": 16,
   "metadata": {},
   "outputs": [],
   "source": [
    "# make a pipe\n",
    "pipe = Pipeline([('process',FunctionTransformer(process))])\n",
    "\n",
    "process_train = pipe.fit_transform(X_train)\n",
    "process_test = pipe.transform(X_test)"
   ]
  },
  {
   "cell_type": "markdown",
   "metadata": {},
   "source": [
    "### A Reminder on More Advanced Pipelines\n",
    "\n",
    "The last example in the practice set illustrates the need for more advanced pipelins.\n",
    "\n",
    "Luckily we introduced these back in Notebook 7.\n",
    "\n",
    "We quickly review them now before signing off.\n",
    "\n",
    "The key features we require are that things like scalers, imputers, pca, and other transformers need a `fit`, a `transform`, and a `fit_transform` method.\n",
    "\n",
    "This can all be done with `sklearn`.\n",
    "\n",
    "We'll end with an example that features categorical and continuous variables.\n",
    "\n",
    "We want to one hot encode the categorical variables and we want to scale the continuous then put them through PCA."
   ]
  },
  {
   "cell_type": "code",
   "execution_count": 17,
   "metadata": {},
   "outputs": [],
   "source": [
    "# make data\n",
    "X = np.zeros((1000,9))\n",
    "\n",
    "X[:,0] = np.random.randint(0,3,1000)\n",
    "X[:,1:8] = np.random.randn(1000,7)\n",
    "X[:,8] = X[:,1] + 2*X[:,3] - 4*X[:,6] + np.random.randn(1000)\n"
   ]
  },
  {
   "cell_type": "code",
   "execution_count": 18,
   "metadata": {},
   "outputs": [],
   "source": [
    "# We first create this function that takes in \n",
    "# X and makes one hot encoded columns\n",
    "def get_X_ready(X):\n",
    "    new_X = np.zeros((np.shape(X)[0],10))\n",
    "    \n",
    "    # one hot encode\n",
    "    new_X[X[:,0]==0,0] = 1\n",
    "    new_X[X[:,0]==1,1] = 1\n",
    "\n",
    "    # copy the rest\n",
    "    new_X[:,2:] = X[:,1:]\n",
    "    \n",
    "    return new_X"
   ]
  },
  {
   "cell_type": "code",
   "execution_count": 19,
   "metadata": {},
   "outputs": [],
   "source": [
    "# This allows you to maek\n",
    "# a custom transformer\n",
    "from sklearn.base import BaseEstimator, TransformerMixin"
   ]
  },
  {
   "cell_type": "code",
   "execution_count": 20,
   "metadata": {},
   "outputs": [],
   "source": [
    "# Define our custom transformer\n",
    "# It should take in our X with the one hot encoded columns\n",
    "# and return the scaled continuous columns \n",
    "class Scaler(BaseEstimator, TransformerMixin):\n",
    "    #Class Constructor \n",
    "    # This allows you to initiate the class when you call\n",
    "    # Scaler\n",
    "    def __init__(self):\n",
    "        # I want to initiate each object with\n",
    "        # the StandardScaler method\n",
    "        self.StandardScaler = StandardScaler()\n",
    "    \n",
    "    # For my fit method I'm just going to \"steal\"\n",
    "    # StandardScaler's fit method using only the\n",
    "    # columns I want\n",
    "    def fit(self, X, y = None ):\n",
    "        self.StandardScaler.fit(X[:,2:])\n",
    "        return self\n",
    "    \n",
    "    # Now I want to transform the columns I want\n",
    "    # and return it with scaled columns\n",
    "    def transform(self, X, y = None):\n",
    "        X[:,2:] = self.StandardScaler.transform(X[:,2:])\n",
    "        return X"
   ]
  },
  {
   "cell_type": "code",
   "execution_count": 21,
   "metadata": {},
   "outputs": [],
   "source": [
    "from sklearn.decomposition import PCA\n",
    "# we now make a custom PCA transform\n",
    "class CustomPCA(BaseEstimator, TransformerMixin):\n",
    "    #Class Constructor \n",
    "    # This allows you to initiate the class when you call\n",
    "    # CustomPCA\n",
    "    def __init__(self):\n",
    "        # I want to initiate each object with\n",
    "        # the PCA method\n",
    "        self.PCA = PCA()\n",
    "    \n",
    "    # For my fit method I'm just going to \"steal\"\n",
    "    # PCA's fit method using only the\n",
    "    # columns I want\n",
    "    def fit(self, X, y = None ):\n",
    "        self.PCA.fit(X[:,2:])\n",
    "        return self\n",
    "    \n",
    "    # Now I want to transform the columns\n",
    "    # and return it with PCA\n",
    "    def transform(self, X, y = None):\n",
    "        X[:,2:] = self.PCA.transform(X[:,2:])\n",
    "        return X"
   ]
  },
  {
   "cell_type": "code",
   "execution_count": 22,
   "metadata": {},
   "outputs": [],
   "source": [
    "# Now we put it all together with a pipe\n",
    "pipe = Pipeline([('get_X_ready',FunctionTransformer(get_X_ready)),\n",
    "                ('scale',Scaler()),\n",
    "                ('pca',CustomPCA())])"
   ]
  },
  {
   "cell_type": "code",
   "execution_count": 23,
   "metadata": {},
   "outputs": [],
   "source": [
    "# train test split\n",
    "X_train, X_test = train_test_split(X,test_size=.1,shuffle=True,random_state=44)"
   ]
  },
  {
   "cell_type": "code",
   "execution_count": 24,
   "metadata": {},
   "outputs": [],
   "source": [
    "# Processed training set\n",
    "X_train_processed = pipe.fit_transform(X_train)"
   ]
  },
  {
   "cell_type": "code",
   "execution_count": 25,
   "metadata": {},
   "outputs": [],
   "source": [
    "# Processed testing set\n",
    "X_test_processed = pipe.transform(X_test)"
   ]
  },
  {
   "cell_type": "code",
   "execution_count": 26,
   "metadata": {},
   "outputs": [
    {
     "data": {
      "text/plain": [
       "array([[ 0.        ,  1.        ,  0.01959462, ...,  2.12517514,\n",
       "         0.39893159,  0.17110421],\n",
       "       [ 1.        ,  0.        ,  0.68136149, ..., -0.47417259,\n",
       "         0.70362549, -0.10537797],\n",
       "       [ 1.        ,  0.        , -2.13647321, ..., -1.4762095 ,\n",
       "        -0.26700619, -0.14958157],\n",
       "       ...,\n",
       "       [ 1.        ,  0.        ,  0.0327174 , ...,  0.42355316,\n",
       "        -0.60359615,  0.12598118],\n",
       "       [ 1.        ,  0.        ,  1.29427975, ...,  0.71041834,\n",
       "        -0.63478924,  0.36667208],\n",
       "       [ 0.        ,  1.        ,  0.25386409, ..., -0.60850776,\n",
       "        -1.16975088, -0.19820841]])"
      ]
     },
     "execution_count": 26,
     "metadata": {},
     "output_type": "execute_result"
    }
   ],
   "source": [
    "X_train_processed"
   ]
  },
  {
   "cell_type": "code",
   "execution_count": 27,
   "metadata": {},
   "outputs": [
    {
     "data": {
      "text/plain": [
       "array([[ 0.00000000e+00,  0.00000000e+00, -1.18157105e+00,\n",
       "         3.08637062e-01, -1.79897606e+00, -1.32392574e+00,\n",
       "         3.79064272e-01,  1.15973460e+00,  6.29259101e-01,\n",
       "        -1.66040965e-01],\n",
       "       [ 0.00000000e+00,  0.00000000e+00,  7.11527458e-01,\n",
       "         5.22406100e-01, -5.05242177e-01, -3.71303617e-01,\n",
       "         7.23545399e-01,  7.89895588e-01, -8.10115913e-01,\n",
       "        -3.56530649e-01],\n",
       "       [ 0.00000000e+00,  0.00000000e+00,  1.87994706e+00,\n",
       "        -7.59367360e-01,  7.70514521e-01,  6.36154622e-02,\n",
       "        -4.98931448e-01, -4.14265681e-01,  9.78746265e-01,\n",
       "        -4.92020393e-02],\n",
       "       [ 0.00000000e+00,  0.00000000e+00, -1.21395695e+00,\n",
       "         1.09941692e+00, -4.80966173e-01, -1.76246158e+00,\n",
       "         3.31771300e-01,  1.79201102e-01, -1.98682632e-01,\n",
       "         3.28612637e-02],\n",
       "       [ 1.00000000e+00,  0.00000000e+00, -9.65211408e-01,\n",
       "        -1.77320437e+00,  1.08915267e-01, -1.42623559e+00,\n",
       "        -1.25431610e+00,  1.25134010e+00,  4.63535586e-01,\n",
       "        -3.44974681e-01],\n",
       "       [ 0.00000000e+00,  1.00000000e+00, -1.36978699e-01,\n",
       "        -3.29300003e-01,  1.19074529e-01,  3.03895669e-02,\n",
       "        -8.17643291e-01, -4.52200160e-01, -2.26612373e-01,\n",
       "         2.25664295e-01],\n",
       "       [ 0.00000000e+00,  0.00000000e+00,  1.02799591e+00,\n",
       "         2.94140594e-01, -8.53628266e-01, -8.06579830e-02,\n",
       "        -1.64887939e+00, -4.40577683e-01, -9.44795698e-01,\n",
       "         2.46436801e-01],\n",
       "       [ 1.00000000e+00,  0.00000000e+00,  6.04494690e-01,\n",
       "         1.36545982e+00, -2.70138630e-02, -9.92823287e-02,\n",
       "        -3.00378972e-02,  1.08045565e+00,  1.91211321e-01,\n",
       "         1.52423452e-01],\n",
       "       [ 0.00000000e+00,  1.00000000e+00,  7.81065835e-02,\n",
       "        -5.29426636e-01, -1.05434475e+00,  6.65899271e-01,\n",
       "         8.28129728e-02, -8.92361866e-01, -1.28317350e-01,\n",
       "        -1.00155832e-01],\n",
       "       [ 0.00000000e+00,  0.00000000e+00,  3.00400500e+00,\n",
       "        -2.19352557e-01,  1.98479836e+00, -7.74637572e-01,\n",
       "        -1.25460960e+00, -1.62508567e+00,  2.63243004e+00,\n",
       "         9.38331300e-02],\n",
       "       [ 0.00000000e+00,  1.00000000e+00, -2.22486102e+00,\n",
       "        -7.94491124e-01,  1.62475332e+00,  2.04490802e+00,\n",
       "         2.81269583e-01,  3.39052122e-01,  3.35078878e-01,\n",
       "         5.28796392e-02],\n",
       "       [ 1.00000000e+00,  0.00000000e+00, -7.88836790e-01,\n",
       "         1.61837114e-01, -2.00137478e+00, -4.71106111e-01,\n",
       "         1.68285230e+00, -1.33369830e+00, -2.81855628e-01,\n",
       "        -1.40534783e-02],\n",
       "       [ 0.00000000e+00,  0.00000000e+00, -2.02434053e+00,\n",
       "         5.66262982e-01, -4.93556103e-01, -1.51521696e+00,\n",
       "         7.96226752e-02, -4.31028629e-01,  3.56831746e-01,\n",
       "         1.33799386e-01],\n",
       "       [ 1.00000000e+00,  0.00000000e+00,  1.21661195e+00,\n",
       "         1.68889049e-02, -1.49202678e+00, -4.75546822e-01,\n",
       "         2.00027088e-01, -5.43475024e-01, -1.99662123e-01,\n",
       "        -1.50088946e-01],\n",
       "       [ 0.00000000e+00,  0.00000000e+00,  1.74015863e+00,\n",
       "        -3.38177369e-01, -3.38024957e-02,  8.88579818e-01,\n",
       "        -4.28177294e-02,  7.99613637e-01, -1.28121800e-01,\n",
       "        -4.40938174e-02],\n",
       "       [ 0.00000000e+00,  1.00000000e+00,  1.65272453e-01,\n",
       "        -9.44677115e-01,  5.38179503e-01,  2.72959967e+00,\n",
       "         5.55792841e-01, -4.64951357e-01, -2.22876975e-01,\n",
       "         2.89704782e-01],\n",
       "       [ 0.00000000e+00,  1.00000000e+00, -2.16038224e+00,\n",
       "        -7.91780979e-01, -1.45162115e+00,  2.78746871e-01,\n",
       "        -3.98118927e-01,  1.12224227e+00,  5.22996331e-01,\n",
       "         5.96144025e-02],\n",
       "       [ 0.00000000e+00,  1.00000000e+00, -1.16317465e+00,\n",
       "        -7.45384050e-01,  1.62582947e+00, -5.08874767e-01,\n",
       "         7.43984997e-01,  2.29968812e-01, -1.44045239e+00,\n",
       "         2.02065131e-01],\n",
       "       [ 0.00000000e+00,  1.00000000e+00,  7.05816865e-01,\n",
       "        -8.15043989e-01,  1.51150159e+00,  9.82828005e-01,\n",
       "         1.82600166e+00, -4.21076736e-01,  2.88424904e-01,\n",
       "         1.43431193e-01],\n",
       "       [ 0.00000000e+00,  0.00000000e+00,  2.12313102e+00,\n",
       "         5.81636950e-01,  2.76312408e-01,  3.74501408e-02,\n",
       "         1.40243676e+00,  9.43252434e-02,  1.34831150e+00,\n",
       "        -1.08080534e-01],\n",
       "       [ 0.00000000e+00,  0.00000000e+00, -5.67949045e-01,\n",
       "         1.48229602e+00, -6.82105130e-01, -2.46144674e-01,\n",
       "        -1.16390183e+00, -6.56705768e-01,  2.20792185e-01,\n",
       "        -1.59879069e-01],\n",
       "       [ 0.00000000e+00,  1.00000000e+00, -1.01649169e+00,\n",
       "        -4.53973907e-01,  1.64562585e+00, -1.91540767e+00,\n",
       "         3.78215168e-01,  1.78500475e+00, -5.28712134e-01,\n",
       "         2.31330290e-01],\n",
       "       [ 0.00000000e+00,  0.00000000e+00,  8.09691817e-02,\n",
       "         1.54952758e+00, -6.06108242e-01,  2.35411924e+00,\n",
       "        -1.29173109e-01,  1.65584935e+00,  5.13854463e-01,\n",
       "        -5.09072326e-02],\n",
       "       [ 0.00000000e+00,  0.00000000e+00, -2.18187785e+00,\n",
       "         1.97598818e-01, -9.12143605e-01,  3.55601436e-01,\n",
       "         1.61785035e+00,  1.64412740e-01, -5.82335517e-01,\n",
       "        -1.38746967e-01],\n",
       "       [ 0.00000000e+00,  0.00000000e+00,  3.08359770e+00,\n",
       "        -1.88873761e+00,  3.06115044e-01, -1.70010375e+00,\n",
       "        -3.72886121e-01, -1.45877739e+00, -1.74946422e-01,\n",
       "         1.07141714e-01],\n",
       "       [ 0.00000000e+00,  1.00000000e+00,  5.65065467e-01,\n",
       "        -5.26722695e-01,  3.68473828e-01,  4.87583618e-01,\n",
       "         1.33831504e+00, -9.87751009e-01,  2.84358337e-01,\n",
       "         2.18901664e-02],\n",
       "       [ 1.00000000e+00,  0.00000000e+00, -3.92248822e-01,\n",
       "        -1.27208649e+00, -9.23610298e-01, -1.53329001e+00,\n",
       "        -1.90312891e-01,  7.23392030e-01, -3.36793000e-01,\n",
       "         1.64516060e-01],\n",
       "       [ 1.00000000e+00,  0.00000000e+00, -1.42678587e+00,\n",
       "         7.07403477e-01, -1.20942626e-01,  1.00533265e+00,\n",
       "        -1.30458591e+00, -1.24186237e-01,  5.58420059e-01,\n",
       "         8.78762893e-02],\n",
       "       [ 0.00000000e+00,  0.00000000e+00, -9.26952718e-01,\n",
       "        -8.82649657e-01, -3.21673155e-01, -1.52182121e+00,\n",
       "        -1.67080085e+00, -5.25732431e-01,  1.08644012e-01,\n",
       "         1.98031032e-02],\n",
       "       [ 1.00000000e+00,  0.00000000e+00, -4.05843075e-01,\n",
       "        -2.63252479e-01, -1.20411759e+00,  7.91846042e-01,\n",
       "         1.75262625e-01,  1.64057454e+00, -2.67755928e+00,\n",
       "         4.83526634e-03],\n",
       "       [ 0.00000000e+00,  1.00000000e+00, -3.67704611e-01,\n",
       "        -9.08643953e-01,  3.56739906e-02,  1.21819781e+00,\n",
       "         4.75672998e-01, -1.07443111e+00, -4.68858797e-01,\n",
       "        -4.23884871e-02],\n",
       "       [ 1.00000000e+00,  0.00000000e+00,  7.56660745e-01,\n",
       "         9.46258767e-01,  1.01603541e+00,  1.30076261e+00,\n",
       "         1.31081821e+00, -5.84502118e-01, -1.19799834e+00,\n",
       "        -2.01524200e-02],\n",
       "       [ 1.00000000e+00,  0.00000000e+00,  1.11068577e+00,\n",
       "        -2.87557423e-01, -4.50387346e-01, -8.28595173e-02,\n",
       "        -6.99547692e-01, -4.51412589e-01,  1.93600376e-01,\n",
       "         9.98674182e-02],\n",
       "       [ 1.00000000e+00,  0.00000000e+00, -4.39847358e-01,\n",
       "        -9.20991730e-02, -1.14606819e+00, -1.20811190e+00,\n",
       "         2.30778151e+00, -1.09651399e+00,  1.51486421e+00,\n",
       "        -1.83163717e-01],\n",
       "       [ 0.00000000e+00,  0.00000000e+00,  2.54049681e-01,\n",
       "        -1.84001835e-01, -3.12893201e-01,  2.49510020e+00,\n",
       "         1.75513557e-01, -1.92908388e+00, -1.24629321e-01,\n",
       "        -8.43888704e-02],\n",
       "       [ 1.00000000e+00,  0.00000000e+00, -7.12561127e-01,\n",
       "        -2.29862889e-01, -1.99579368e+00,  9.72878301e-01,\n",
       "         1.26907697e+00,  1.18117268e+00, -2.00530489e+00,\n",
       "         4.87007702e-02],\n",
       "       [ 0.00000000e+00,  1.00000000e+00, -3.09486817e+00,\n",
       "         2.73097740e-01,  2.04735132e-01,  3.07217049e-01,\n",
       "         1.99794131e-01,  1.26820586e+00,  8.21302188e-01,\n",
       "         5.74977924e-02],\n",
       "       [ 0.00000000e+00,  1.00000000e+00, -2.51746588e-01,\n",
       "        -8.47303142e-01, -9.19154626e-01,  2.08155389e-01,\n",
       "        -6.22495273e-01,  7.42999722e-01,  2.11220974e+00,\n",
       "         1.06215628e-01],\n",
       "       [ 1.00000000e+00,  0.00000000e+00,  4.71096153e-01,\n",
       "        -1.10268119e+00, -1.40006178e+00, -1.22749552e+00,\n",
       "        -1.46480386e+00,  7.86265402e-01,  5.72177841e-01,\n",
       "         1.79288438e-01],\n",
       "       [ 0.00000000e+00,  1.00000000e+00, -5.11206335e-02,\n",
       "         7.56848611e-01, -1.65167400e-01,  7.92507411e-02,\n",
       "         7.41335094e-01,  1.64145663e+00, -7.51913350e-01,\n",
       "        -5.24999669e-02],\n",
       "       [ 0.00000000e+00,  1.00000000e+00, -9.30139508e-01,\n",
       "        -9.08591861e-01, -6.25196623e-01,  4.84758230e-02,\n",
       "        -9.08334012e-01,  2.04116554e+00,  2.13321087e+00,\n",
       "        -1.43631303e-01],\n",
       "       [ 0.00000000e+00,  1.00000000e+00, -3.51794706e-01,\n",
       "         7.02986817e-01,  5.84355128e-01, -2.26253376e-01,\n",
       "        -7.93143572e-01, -5.80602178e-01,  7.57145580e-01,\n",
       "        -3.76384035e-02],\n",
       "       [ 1.00000000e+00,  0.00000000e+00, -7.92682796e-01,\n",
       "         6.47996698e-01, -8.32589840e-01, -1.26352737e+00,\n",
       "        -1.74925890e+00, -1.95769897e+00,  3.60141607e-01,\n",
       "        -9.88193730e-02],\n",
       "       [ 0.00000000e+00,  0.00000000e+00, -3.51075233e-02,\n",
       "        -4.12032112e-01, -7.26780662e-01, -1.09403469e+00,\n",
       "        -5.95907098e-01, -2.46001354e-01, -3.52873077e-01,\n",
       "        -1.50659673e-01],\n",
       "       [ 1.00000000e+00,  0.00000000e+00, -6.57048704e-02,\n",
       "         3.17004848e-01, -3.38454291e-01,  2.35047069e-01,\n",
       "        -4.06054821e-04,  1.93586841e+00, -2.29144585e-01,\n",
       "        -1.30987208e-01],\n",
       "       [ 0.00000000e+00,  1.00000000e+00, -3.76450910e+00,\n",
       "         1.06516565e+00, -7.58457330e-01,  8.97226980e-01,\n",
       "        -6.09695076e-01, -1.85819187e-01, -1.92520544e+00,\n",
       "         2.25586964e-01],\n",
       "       [ 0.00000000e+00,  0.00000000e+00, -1.75831185e+00,\n",
       "        -1.02959397e+00,  6.33098276e-01, -1.24867616e-01,\n",
       "        -1.57402674e+00,  5.71503028e-01,  1.62390530e+00,\n",
       "         4.62922374e-02],\n",
       "       [ 1.00000000e+00,  0.00000000e+00, -2.62720002e+00,\n",
       "         1.36949845e+00,  9.00283249e-02,  1.86792061e+00,\n",
       "        -1.83735923e+00, -5.46573277e-01,  1.12345372e+00,\n",
       "        -4.61884269e-02],\n",
       "       [ 0.00000000e+00,  1.00000000e+00,  1.08628568e+00,\n",
       "         6.45238249e-01, -1.86745780e+00,  2.36224933e+00,\n",
       "         9.20368035e-01, -7.93230013e-02, -2.87354692e-01,\n",
       "        -8.25465882e-03],\n",
       "       [ 1.00000000e+00,  0.00000000e+00, -3.60007651e-02,\n",
       "         6.05236112e-01, -4.89304797e-01,  2.28118170e+00,\n",
       "        -1.11839649e+00,  6.94745547e-01, -1.58774170e+00,\n",
       "         7.90070036e-02],\n",
       "       [ 1.00000000e+00,  0.00000000e+00,  7.50495142e-01,\n",
       "         1.61889042e+00,  2.14437825e-01, -1.53094716e+00,\n",
       "        -1.45343075e+00,  1.84711099e-01, -1.29234939e-01,\n",
       "        -1.83168523e-01],\n",
       "       [ 0.00000000e+00,  0.00000000e+00,  1.22553594e+00,\n",
       "        -1.10631317e+00, -1.11438478e+00,  2.08430173e+00,\n",
       "        -8.33786317e-01,  5.51476564e-01, -1.46062672e-01,\n",
       "         1.95386718e-01],\n",
       "       [ 1.00000000e+00,  0.00000000e+00, -2.15599625e+00,\n",
       "         8.69828193e-01, -7.85337692e-01,  3.19883341e-01,\n",
       "        -2.58638274e-01,  7.73361695e-01,  8.03185274e-01,\n",
       "         1.11939010e-01],\n",
       "       [ 0.00000000e+00,  0.00000000e+00, -1.36609078e+00,\n",
       "         1.19810817e+00, -2.48421218e-01,  1.36457511e+00,\n",
       "        -6.72059074e-01, -2.72003117e+00,  5.64731032e-01,\n",
       "         5.62678589e-02],\n",
       "       [ 1.00000000e+00,  0.00000000e+00,  1.05383226e+00,\n",
       "        -1.04134138e+00,  1.39722836e+00, -3.89806226e-01,\n",
       "        -2.72305358e-01, -1.26547976e+00, -4.51861363e-01,\n",
       "         6.46971835e-03],\n",
       "       [ 0.00000000e+00,  0.00000000e+00,  7.33498728e-01,\n",
       "         1.42884675e+00, -1.26814093e+00,  2.11350539e+00,\n",
       "         7.58444025e-02,  8.64600369e-01,  1.56848720e+00,\n",
       "         6.84470131e-02],\n",
       "       [ 0.00000000e+00,  1.00000000e+00, -1.01407454e+00,\n",
       "         1.93760027e-02, -7.15569732e-01, -8.71900305e-01,\n",
       "         2.53390866e-01,  2.18583093e-01,  4.07584414e-01,\n",
       "         1.77099796e-01],\n",
       "       [ 1.00000000e+00,  0.00000000e+00,  2.82874942e+00,\n",
       "        -3.97988041e-01,  1.86750772e+00, -1.90330466e+00,\n",
       "        -1.41188164e+00,  2.35953017e-01,  1.69813204e+00,\n",
       "         2.79354047e-02],\n",
       "       [ 0.00000000e+00,  1.00000000e+00,  3.10195902e-01,\n",
       "         1.58604296e+00,  1.63684210e+00,  6.19178723e-01,\n",
       "        -1.14288546e+00,  1.96931366e-01, -6.12916613e-01,\n",
       "         1.66338156e-01],\n",
       "       [ 1.00000000e+00,  0.00000000e+00, -3.06673987e-01,\n",
       "         6.76720035e-01,  2.22098762e+00,  4.16633314e-01,\n",
       "        -2.93214779e-01, -1.10533728e+00, -1.06442538e+00,\n",
       "         2.52441950e-01],\n",
       "       [ 1.00000000e+00,  0.00000000e+00,  2.40177452e+00,\n",
       "        -6.11948469e-01,  1.55191750e+00, -1.56818362e+00,\n",
       "        -8.57003075e-01, -2.54524223e-01, -1.16905224e+00,\n",
       "        -1.25974746e-01],\n",
       "       [ 1.00000000e+00,  0.00000000e+00, -3.45589376e-01,\n",
       "         1.06852495e+00,  7.96632063e-01, -6.35600409e-01,\n",
       "         1.89255323e-01,  1.18756371e+00,  1.06039212e+00,\n",
       "         4.86573146e-02],\n",
       "       [ 0.00000000e+00,  1.00000000e+00, -2.57702733e-01,\n",
       "         1.41207114e+00, -5.57724594e-01,  1.55155650e+00,\n",
       "        -2.00870331e-01, -3.02652557e+00,  7.83519307e-02,\n",
       "         1.60929016e-01],\n",
       "       [ 1.00000000e+00,  0.00000000e+00,  1.78776228e+00,\n",
       "         3.58219185e-01, -8.09018312e-01,  1.85832925e-01,\n",
       "         3.03421540e-01, -4.21222445e-01, -6.43111100e-02,\n",
       "        -3.59041772e-02],\n",
       "       [ 1.00000000e+00,  0.00000000e+00,  5.96343610e-01,\n",
       "         3.20894099e-01, -8.27440487e-01,  2.18832798e-01,\n",
       "        -1.11302687e+00, -1.06076019e+00,  8.82499740e-01,\n",
       "        -5.90514728e-02],\n",
       "       [ 0.00000000e+00,  0.00000000e+00, -9.19996962e-01,\n",
       "        -1.90722486e-01, -1.06035726e+00, -2.42015497e-01,\n",
       "         7.18714109e-01,  2.84636650e-02,  2.39739756e-01,\n",
       "         1.07640379e-01],\n",
       "       [ 1.00000000e+00,  0.00000000e+00,  9.33032064e-02,\n",
       "        -1.37941045e-02,  2.75092742e-01,  1.59347530e+00,\n",
       "        -6.22652732e-01, -1.09553605e+00, -6.35801748e-01,\n",
       "        -6.65683401e-02],\n",
       "       [ 1.00000000e+00,  0.00000000e+00,  9.36666075e-01,\n",
       "        -4.07350691e-01, -1.29998672e+00, -3.54596137e-01,\n",
       "         1.31987829e-01,  7.43545699e-01,  3.48629525e-01,\n",
       "        -4.00387031e-02],\n",
       "       [ 1.00000000e+00,  0.00000000e+00, -3.98087184e-01,\n",
       "        -1.79848204e+00,  1.24916903e+00,  1.09730669e+00,\n",
       "        -1.38631039e-01, -9.01272282e-01, -4.51304570e-01,\n",
       "         5.04164285e-02],\n",
       "       [ 1.00000000e+00,  0.00000000e+00,  6.34801662e-01,\n",
       "        -8.06062454e-01, -4.54786457e-01, -1.75254205e-01,\n",
       "        -2.13794976e+00,  4.99689390e-01, -3.29024332e-01,\n",
       "         1.05960530e-01],\n",
       "       [ 0.00000000e+00,  1.00000000e+00, -7.13249514e-01,\n",
       "         8.72096223e-01,  3.27858955e-02, -1.15882168e+00,\n",
       "         5.97575001e-01, -9.54943054e-01,  5.59151924e-01,\n",
       "        -9.15096264e-02],\n",
       "       [ 0.00000000e+00,  0.00000000e+00, -5.25661934e-01,\n",
       "         6.73460447e-01, -1.72100843e-02,  2.54407270e+00,\n",
       "         1.18900843e+00,  2.96683893e-02, -9.57454719e-01,\n",
       "         1.65191482e-02],\n",
       "       [ 0.00000000e+00,  1.00000000e+00,  3.31711501e-01,\n",
       "         1.31496204e+00, -8.93080992e-01,  5.98755569e-01,\n",
       "        -6.70392221e-03, -1.14045005e+00,  7.86255859e-01,\n",
       "         3.34332278e-02],\n",
       "       [ 1.00000000e+00,  0.00000000e+00,  1.92660494e+00,\n",
       "        -2.08327644e+00, -1.00816357e+00, -4.74995283e-01,\n",
       "         1.75069015e+00,  7.51144220e-01, -6.96407650e-02,\n",
       "        -9.08817013e-03],\n",
       "       [ 1.00000000e+00,  0.00000000e+00,  4.70489327e-01,\n",
       "         1.29122416e+00,  1.25554181e+00,  8.93766285e-01,\n",
       "         7.58209050e-01, -4.31919570e-03, -9.32266779e-01,\n",
       "        -2.26716003e-01],\n",
       "       [ 0.00000000e+00,  1.00000000e+00, -1.15507285e-02,\n",
       "         7.45845444e-01, -5.46963794e-01, -3.88876004e-01,\n",
       "        -9.73768716e-02, -6.45907402e-01, -1.16650203e+00,\n",
       "         1.09959092e-01],\n",
       "       [ 0.00000000e+00,  0.00000000e+00,  9.37930324e-01,\n",
       "         3.57189284e-01, -1.13259093e+00, -1.04991860e+00,\n",
       "        -3.03425326e-01,  1.05387112e+00, -1.11950971e+00,\n",
       "         7.09545473e-02],\n",
       "       [ 1.00000000e+00,  0.00000000e+00,  1.25569858e+00,\n",
       "         5.23165567e-01,  2.16094106e+00, -3.14145988e-01,\n",
       "         4.17209985e-02, -7.59416192e-01,  8.77849189e-01,\n",
       "        -7.95932386e-02],\n",
       "       [ 0.00000000e+00,  1.00000000e+00,  1.04605708e+00,\n",
       "         5.83485175e-01,  1.18066043e+00, -1.80316781e+00,\n",
       "        -1.69414893e+00,  1.71277249e-01, -1.87685747e+00,\n",
       "         1.91296022e-01],\n",
       "       [ 0.00000000e+00,  0.00000000e+00, -1.32650098e+00,\n",
       "        -2.49067950e+00, -6.20063299e-01,  1.73762294e+00,\n",
       "        -2.03968234e+00, -7.65134655e-02,  2.46962388e-02,\n",
       "         1.60417044e-01],\n",
       "       [ 0.00000000e+00,  1.00000000e+00,  3.30621247e-01,\n",
       "        -7.98776892e-02,  2.73910209e-01, -2.43268072e-01,\n",
       "        -3.55460865e-01, -5.76642087e-01,  6.70510009e-01,\n",
       "        -1.74917939e-01],\n",
       "       [ 1.00000000e+00,  0.00000000e+00, -1.24563268e+00,\n",
       "         1.48665919e+00, -2.53260157e-02, -1.60339942e-01,\n",
       "         2.76675953e-01,  3.20737617e-01, -7.33114808e-01,\n",
       "         1.33921848e-01],\n",
       "       [ 0.00000000e+00,  0.00000000e+00, -8.22329184e-01,\n",
       "        -1.60631048e+00,  2.90834001e-01,  5.16579388e-01,\n",
       "        -6.96234498e-02, -2.37926699e-01,  1.01308569e+00,\n",
       "         1.12444821e-01],\n",
       "       [ 0.00000000e+00,  0.00000000e+00,  7.96200657e-01,\n",
       "         1.05685537e+00,  5.19057401e-01,  3.56232728e-02,\n",
       "        -3.11314247e-02,  3.74177474e-02, -8.77683573e-02,\n",
       "        -1.64284630e-01],\n",
       "       [ 0.00000000e+00,  1.00000000e+00,  2.99114406e-02,\n",
       "        -4.50701126e-02,  5.34202463e-01, -1.40353255e+00,\n",
       "        -6.49456186e-01,  5.74952676e-01,  7.78856489e-01,\n",
       "        -9.77097094e-02],\n",
       "       [ 0.00000000e+00,  0.00000000e+00,  3.82846169e-01,\n",
       "        -5.61463274e-01,  4.04376967e-02,  5.69459596e-01,\n",
       "         3.81961780e-01,  8.67214637e-01,  3.75309431e-01,\n",
       "         1.04145849e-01],\n",
       "       [ 1.00000000e+00,  0.00000000e+00, -4.00521153e-01,\n",
       "         1.29218890e-02,  9.84327434e-01, -1.22024558e+00,\n",
       "        -1.00730267e+00,  1.25074848e+00, -4.86185696e-01,\n",
       "         8.08078707e-03],\n",
       "       [ 0.00000000e+00,  1.00000000e+00,  2.27628314e+00,\n",
       "        -1.14132138e+00,  2.10166061e+00, -9.77710347e-01,\n",
       "        -3.37131336e-01,  7.24254867e-01,  2.15207120e-01,\n",
       "         2.26864793e-02],\n",
       "       [ 0.00000000e+00,  1.00000000e+00, -3.54777592e+00,\n",
       "        -3.05959613e-01, -1.47400617e+00,  1.63512811e+00,\n",
       "         3.80845767e-01, -1.62661385e+00,  1.36752233e-01,\n",
       "        -3.67022549e-01],\n",
       "       [ 0.00000000e+00,  0.00000000e+00,  5.11227512e-01,\n",
       "         8.01334948e-01,  2.12365464e+00, -2.02146540e-01,\n",
       "         8.08749075e-01,  1.06062280e+00,  5.64438852e-02,\n",
       "        -2.75317800e-01],\n",
       "       [ 0.00000000e+00,  1.00000000e+00,  1.75836208e+00,\n",
       "         2.68089442e-01, -6.99834935e-01, -1.42187196e+00,\n",
       "         5.72215202e-01, -7.47837503e-02,  9.43088254e-01,\n",
       "        -4.80700345e-02],\n",
       "       [ 0.00000000e+00,  1.00000000e+00, -5.68330000e-01,\n",
       "         1.14898363e+00,  1.09371343e+00,  2.65314030e-02,\n",
       "         2.42981899e-01, -1.75379266e+00,  2.43096795e-01,\n",
       "        -1.72515238e-02],\n",
       "       [ 0.00000000e+00,  0.00000000e+00, -1.69710830e+00,\n",
       "        -1.07940170e+00, -4.99924879e-01,  1.23470081e+00,\n",
       "         6.27285550e-01, -2.63159440e+00, -1.07648625e+00,\n",
       "        -6.23344266e-02],\n",
       "       [ 1.00000000e+00,  0.00000000e+00, -1.55709734e+00,\n",
       "        -8.87518780e-01, -1.86942672e+00, -5.60919697e-01,\n",
       "         1.18770912e+00, -1.12879998e+00,  1.58093351e+00,\n",
       "        -2.35646576e-01],\n",
       "       [ 0.00000000e+00,  1.00000000e+00,  1.43030822e-01,\n",
       "        -2.85769867e-01, -1.12928332e-01, -1.07195792e+00,\n",
       "         9.65118005e-01, -8.34331819e-01,  1.01212666e+00,\n",
       "        -3.27295966e-02],\n",
       "       [ 1.00000000e+00,  0.00000000e+00,  1.81916714e+00,\n",
       "         6.56091373e-01,  9.01081693e-01,  1.21675234e+00,\n",
       "        -2.59088592e+00, -1.12864611e+00, -5.31781079e-01,\n",
       "         1.37240390e-01],\n",
       "       [ 0.00000000e+00,  1.00000000e+00,  2.52405587e-01,\n",
       "        -1.46581135e+00,  1.75883561e-01, -2.32626219e-01,\n",
       "         1.94063577e-01, -2.35178033e+00, -9.08252901e-01,\n",
       "         9.86483580e-03],\n",
       "       [ 1.00000000e+00,  0.00000000e+00,  2.10569522e-01,\n",
       "         1.17215700e+00, -6.69722991e-01, -8.04742351e-01,\n",
       "         2.13314796e-01, -7.54825403e-01, -1.82932932e+00,\n",
       "        -1.90936933e-03],\n",
       "       [ 0.00000000e+00,  1.00000000e+00, -4.97018656e-01,\n",
       "        -1.35347262e+00, -9.53918032e-01, -1.98928053e+00,\n",
       "        -2.39893096e-01,  6.00996985e-01, -7.72594516e-02,\n",
       "        -2.25780893e-01],\n",
       "       [ 0.00000000e+00,  1.00000000e+00, -4.02351387e-02,\n",
       "        -1.09957011e+00, -2.80096821e+00, -5.53946326e-01,\n",
       "        -9.33355513e-01,  2.18939228e+00,  4.33713408e-01,\n",
       "        -1.33484109e-01]])"
      ]
     },
     "execution_count": 27,
     "metadata": {},
     "output_type": "execute_result"
    }
   ],
   "source": [
    "X_test_processed"
   ]
  },
  {
   "cell_type": "code",
   "execution_count": 28,
   "metadata": {},
   "outputs": [
    {
     "data": {
      "text/plain": [
       "array([ 6.82787160e-17, -1.24591695e-17, -5.20571240e-17,  1.48029737e-17,\n",
       "        1.83803590e-17,  1.08555140e-17, -2.26978929e-17,  3.30908140e-17])"
      ]
     },
     "execution_count": 28,
     "metadata": {},
     "output_type": "execute_result"
    }
   ],
   "source": [
    "# we can check the means again\n",
    "np.mean(X_train_processed[:,2:],axis=0)"
   ]
  },
  {
   "cell_type": "code",
   "execution_count": 29,
   "metadata": {},
   "outputs": [
    {
     "data": {
      "text/plain": [
       "array([-0.05276432, -0.00484614, -0.11133791,  0.0490695 , -0.13454378,\n",
       "       -0.09040187,  0.03284448,  0.00323857])"
      ]
     },
     "execution_count": 29,
     "metadata": {},
     "output_type": "execute_result"
    }
   ],
   "source": [
    "# test mean\n",
    "np.mean(X_test_processed[:,2:],axis=0)"
   ]
  },
  {
   "cell_type": "markdown",
   "metadata": {},
   "source": [
    "This more advanced pipeline is more complicated python than what we've covered up to this point. It's okay if you don't get it right away!\n",
    "\n",
    "I encourage you to review this and Regression Notebook 7 to get more practice. It may also help to review object oriented programming in python, this is a helpful resource <a href=\"https://python.swaroopch.com/oop.html\">https://python.swaroopch.com/oop.html</a>.\n",
    "\n",
    "That's it for this aside, I hope this notebook was helpful!"
   ]
  },
  {
   "cell_type": "code",
   "execution_count": null,
   "metadata": {},
   "outputs": [],
   "source": []
  }
 ],
 "metadata": {
  "kernelspec": {
   "display_name": "Python 3",
   "language": "python",
   "name": "python3"
  },
  "language_info": {
   "codemirror_mode": {
    "name": "ipython",
    "version": 3
   },
   "file_extension": ".py",
   "mimetype": "text/x-python",
   "name": "python",
   "nbconvert_exporter": "python",
   "pygments_lexer": "ipython3",
   "version": "3.7.6"
  }
 },
 "nbformat": 4,
 "nbformat_minor": 2
}
