{
 "cells": [
  {
   "cell_type": "markdown",
   "metadata": {},
   "source": [
    "## What You'll Accomplish in this Notebook\n",
    "\n",
    "Here's what you'll do in this notebook:\n",
    "<ul>\n",
    "    <li>learn about the need for relational databases, and what they are with a youtube video</li>\n",
    "    <li>see how we might construct our own database using python</li>\n",
    "    <li>see how we can get data from a database using python</li>\n",
    "    <li>practice running sql queries with python</li>\n",
    "    <li>learn some basic SQL queries</li>\n",
    "</ul>"
   ]
  },
  {
   "cell_type": "code",
   "execution_count": null,
   "metadata": {},
   "outputs": [],
   "source": [
    "import pandas as pd"
   ]
  },
  {
   "cell_type": "markdown",
   "metadata": {},
   "source": [
    "# Python and Interacting with Databases\n",
    "\n",
    "Many of your at home projects can probably be accomplished with one or two data files in csv, json, or table format. However, if you go to work in industry, your company may store its data in some sort of <i>relational database</i>. You may have heard terms like `SQL` server before. Before we get into specifics let's watch this 5 minute tutorial video on what a database is, and why we might like to use one.\n",
    "<br>\n",
    "<br>\n",
    "<a href=\"https://www.youtube.com/watch?v=wR0jg0eQsZA\">https://www.youtube.com/watch?v=wR0jg0eQsZA</a>\n",
    "<br>\n",
    "<br>\n",
    "As the video says databases are ubiquitous in industry, so knowing how to handle them is important. If you're serious you could learn how to program directly in `SQL`,  <i>the Structured Query Language</i>. This is the standard language for relational databases. `SQL` is how you can talk to a database and find the data you need. \n",
    "\n",
    "Since the focus of our course is `python` we're lucky that python offers a couple of ways to interact with databases both in the base python packages with `sqlite3` (`python`'s built in SQLite driver), and with an additional package `sqlalchemy` (the `python` `SQL` toolkit and Object Relational Mapper that gives application developers the full power and flexibility of `SQL`). If you installed python via the anacondas distribution you should have `sqlalchemy` installed. If not you'll need to install it before we the end of the notebook. "
   ]
  },
  {
   "cell_type": "code",
   "execution_count": 2,
   "metadata": {},
   "outputs": [],
   "source": [
    "## Run this block of code to check that you have \n",
    "## the required packages installed.\n",
    "import sqlite3\n",
    "import sqlalchemy"
   ]
  },
  {
   "cell_type": "markdown",
   "metadata": {},
   "source": [
    "We'll first focus on `sqlite3` then end with a little work in `sqlalchemy`. `sqlite3` is a `C` library built into base `python` that allows for `python` to execute `SQLite` processes. All you'll need to know is that `SQLite` is essentially the Diet Coke to `SQL`'s Coca-Cola. To learn more about the differences check out this webpage <a href=\"https://www.milesweb.com/hosting-faqs/sqlite-vs-mysql/\">https://www.milesweb.com/hosting-faqs/sqlite-vs-mysql/</a>.\n",
    "\n",
    "### Constructing a Database\n",
    "\n",
    "To better understand the structure of a relational database we'll first construct one. Let's just take the example from the video. I'm running a cat store, I sell 3 products: cat food, cat treats, and cat toys. I want a database to keep track of who is buying what stuff from me.\n",
    "\n",
    "Let's go through the process step by step.\n",
    "\n",
    "#### Create the Connection"
   ]
  },
  {
   "cell_type": "code",
   "execution_count": 3,
   "metadata": {},
   "outputs": [],
   "source": [
    "# The first step is creating a connection to the database\n",
    "# This creates the connection and the database if it didn't\n",
    "# already exist\n",
    "conn = sqlite3.connect(\"cat_store.db\")\n",
    "\n",
    "# Now you can check the directory in your computer where\n",
    "# you store this notebook. You should now see catstore.db\n",
    "# in there."
   ]
  },
  {
   "cell_type": "markdown",
   "metadata": {},
   "source": [
    "#### Create a Cursor Object"
   ]
  },
  {
   "cell_type": "code",
   "execution_count": 4,
   "metadata": {},
   "outputs": [],
   "source": [
    "# Step 2 is to create a cursor object\n",
    "# this allows us to execute SQL code chunks\n",
    "# written as python strings\n",
    "\n",
    "\n",
    "c = conn.cursor()"
   ]
  },
  {
   "cell_type": "markdown",
   "metadata": {},
   "source": [
    "#### Executing SQL Code\n",
    "\n",
    "We'll now go over some basic SQL code.\n",
    "\n",
    "##### Creating a Table\n",
    "\n",
    "The first SQL we'll do is create a table, because our database is currently empty."
   ]
  },
  {
   "cell_type": "code",
   "execution_count": 5,
   "metadata": {},
   "outputs": [
    {
     "ename": "OperationalError",
     "evalue": "table products already exists",
     "output_type": "error",
     "traceback": [
      "\u001b[1;31m---------------------------------------------------------------------------\u001b[0m",
      "\u001b[1;31mOperationalError\u001b[0m                          Traceback (most recent call last)",
      "\u001b[1;32m<ipython-input-5-83c3dde43ba7>\u001b[0m in \u001b[0;36m<module>\u001b[1;34m\u001b[0m\n\u001b[0;32m     15\u001b[0m                     \u001b[0min_stock\u001b[0m \u001b[0mint\u001b[0m\u001b[1;33m,\u001b[0m\u001b[1;33m\u001b[0m\u001b[1;33m\u001b[0m\u001b[0m\n\u001b[0;32m     16\u001b[0m                     \u001b[0mPRIMARY\u001b[0m \u001b[0mKEY\u001b[0m \u001b[1;33m(\u001b[0m\u001b[0mproduct_id\u001b[0m\u001b[1;33m)\u001b[0m\u001b[1;33m\u001b[0m\u001b[1;33m\u001b[0m\u001b[0m\n\u001b[1;32m---> 17\u001b[1;33m                 )\"\"\")\n\u001b[0m\u001b[0;32m     18\u001b[0m \u001b[1;33m\u001b[0m\u001b[0m\n\u001b[0;32m     19\u001b[0m \u001b[1;31m# Now in order to commit the action to your database\u001b[0m\u001b[1;33m\u001b[0m\u001b[1;33m\u001b[0m\u001b[1;33m\u001b[0m\u001b[0m\n",
      "\u001b[1;31mOperationalError\u001b[0m: table products already exists"
     ]
    }
   ],
   "source": [
    "# SQL code is written as python strings\n",
    "# then placed inside cursor.execute()\n",
    "\n",
    "\n",
    "# CREATE TABLE is SQL code\n",
    "# it creates a table with the given name, here products\n",
    "# in parantheses we list the columns of our table\n",
    "# along with the SQL data type\n",
    "# The PRIMARY KEY line sets the product_id as the\n",
    "# primary key for this table\n",
    "c.execute(\"\"\"CREATE TABLE products(\n",
    "                    product_id int,\n",
    "                    product text,\n",
    "                    price real,\n",
    "                    in_stock int,\n",
    "                    PRIMARY KEY (product_id)\n",
    "                )\"\"\")\n",
    "\n",
    "# Now in order to commit the action to your database\n",
    "# you run connection.commit().\n",
    "conn.commit()\n",
    "\n",
    "# Note only run this block ONCE EVER\n",
    "# Running it multiple times will cause an error\n",
    "# This is because we can't create a table that already exists \n",
    "# in the database"
   ]
  },
  {
   "cell_type": "markdown",
   "metadata": {},
   "source": [
    "##### Entering an Entry in a Table\n",
    "\n",
    "The next SQL we'll see is how to insert an entry into our table."
   ]
  },
  {
   "cell_type": "code",
   "execution_count": null,
   "metadata": {},
   "outputs": [],
   "source": [
    "# INSERT INTO is the SQL code \n",
    "# it will insert whatever VALUES follows \n",
    "# into the specified table\n",
    "# we'll add the cat food as product 1\n",
    "# its 12.50 and we have 10 bags\n",
    "c.execute(\"INSERT INTO products VALUES (1,'Cat Food',12.50,10)\")\n",
    "\n",
    "# Again commit this to the database.\n",
    "conn.commit()\n",
    "\n",
    "# DON'T Run this more than once."
   ]
  },
  {
   "cell_type": "markdown",
   "metadata": {},
   "source": [
    "##### Retrieving Data From a Table\n",
    "\n",
    "Now that there is data in our table we can retrieve it."
   ]
  },
  {
   "cell_type": "code",
   "execution_count": null,
   "metadata": {},
   "outputs": [],
   "source": [
    "# SELECT * FROM is SQL code\n",
    "# it will find all entries in the specified table\n",
    "c.execute(\"SELECT * FROM products\")\n",
    "\n",
    "# We've now selected all data from products\n",
    "# We can display them with the cursor.fetchall() method\n",
    "print(c.fetchall())\n",
    "\n",
    "# Feel free to run this block as much as you want."
   ]
  },
  {
   "cell_type": "code",
   "execution_count": null,
   "metadata": {},
   "outputs": [],
   "source": [
    "# Run this block to add the final two products\n",
    "c.execute(\"INSERT INTO products VALUES (2,'Cat Treats',5.25,20)\")\n",
    "c.execute(\"INSERT INTO products VALUES (3,'Cat Toy',2.50,30)\")\n",
    "\n",
    "conn.commit()\n",
    "\n",
    "# Only Run ONCE"
   ]
  },
  {
   "cell_type": "code",
   "execution_count": null,
   "metadata": {},
   "outputs": [],
   "source": [
    "# Now we can see all three products\n",
    "c.execute(\"SELECT * FROM products\")\n",
    "\n",
    "# We've now selected all data from products\n",
    "# We can display them with the cursor.fetchall() method\n",
    "print(c.fetchall())\n",
    "\n",
    "# Feel free to run this block as much as you want."
   ]
  },
  {
   "cell_type": "markdown",
   "metadata": {},
   "source": [
    "##### Getting Data With Logic Conditions\n",
    "\n",
    "The final thing we'll go over before you build a table is how to select all entries from a table that meet a certain condition."
   ]
  },
  {
   "cell_type": "code",
   "execution_count": null,
   "metadata": {},
   "outputs": [],
   "source": [
    "# When we use SELECT * FROM table_name\n",
    "# We add a WHERE statement followed by a conditional\n",
    "# let's find all the entries that cost more than $5\n",
    "c.execute(\"SELECT * FROM products WHERE price > 5\")\n",
    "\n",
    "print(c.fetchall())"
   ]
  },
  {
   "cell_type": "code",
   "execution_count": null,
   "metadata": {},
   "outputs": [],
   "source": [
    "# In addition to fetchall() there is: \n",
    "# fetchone() - this reads the data you've queried one at a time, and\n",
    "# fetchmany(n) - this reads the data in n sized chunks at a time"
   ]
  },
  {
   "cell_type": "markdown",
   "metadata": {},
   "source": [
    "#### Practice\n",
    "\n",
    "Now it's your turn to make a table!\n",
    "\n",
    "Since our cat store has opened we've had five customers. It would be good for us to keep track of them so we can provide them coupons in the future.\n",
    "\n",
    "Each unique customer should have a:\n",
    "<ol>\n",
    "    <li>Customer ID</li>\n",
    "    <li>First Name</li>\n",
    "    <li>Last Name</li>\n",
    "    <li>email address</li>\n",
    "    <li>number of cats they own</li>\n",
    "</ol>\n",
    "\n",
    "The Customer ID should be the primary key for the table.\n",
    "\n",
    "It's up to you to come up with the names of the customers, just be sure that each unique customer has a unique customer id, and be sure your code is correct before running. You don't want to accidentally enter the same customer twice!"
   ]
  },
  {
   "cell_type": "code",
   "execution_count": null,
   "metadata": {},
   "outputs": [],
   "source": [
    "## Code here\n",
    "\n",
    "\n",
    "\n",
    "\n",
    "\n",
    "\n",
    "\n"
   ]
  },
  {
   "cell_type": "code",
   "execution_count": null,
   "metadata": {},
   "outputs": [],
   "source": [
    "## Code here\n",
    "\n",
    "\n",
    "\n",
    "\n",
    "\n",
    "\n",
    "\n"
   ]
  },
  {
   "cell_type": "code",
   "execution_count": null,
   "metadata": {},
   "outputs": [],
   "source": [
    "## Code here\n",
    "\n",
    "\n",
    "\n",
    "\n",
    "\n",
    "\n",
    "\n"
   ]
  },
  {
   "cell_type": "code",
   "execution_count": null,
   "metadata": {},
   "outputs": [],
   "source": [
    "## Code here\n",
    "\n",
    "\n",
    "\n",
    "\n",
    "\n",
    "\n"
   ]
  },
  {
   "cell_type": "markdown",
   "metadata": {},
   "source": [
    "Now print out a list of all our customers. Then print out a list of the customers that have more than 2 cats."
   ]
  },
  {
   "cell_type": "code",
   "execution_count": null,
   "metadata": {},
   "outputs": [],
   "source": [
    "## Code here\n",
    "\n",
    "\n",
    "\n",
    "\n",
    "\n"
   ]
  },
  {
   "cell_type": "code",
   "execution_count": null,
   "metadata": {},
   "outputs": [],
   "source": [
    "## Code here\n",
    "\n",
    "\n",
    "\n",
    "\n",
    "\n"
   ]
  },
  {
   "cell_type": "markdown",
   "metadata": {},
   "source": [
    "#### An Aside on Keys\n",
    "\n",
    "Both `product_id` and `customer_id` serve as primary keys in the `product` and `customer` tables respectively. These keys can now be used to create foreign keys in a `purchases` table that tracks which customer buys what products throughout the life of our cat store. The foreign keys in the `purchases` table serve as a way for us to provide context by linking the purchase to the `product` and `customer` parent tables. Each purchase would have its own unique `purchase_id` as well.\n",
    "\n",
    "#### An Aside on Memory Databases\n",
    "\n",
    "You may have been incredibly annoyed or frustrated that you couldn't keep rerunning certain chunks of code. This is somewhat unavoidable when running each process in a separate chunk in a jupyter notebook. However, if you were writing a database script and then running the script in your terminal there is a way to be able to run the script multiple times while you're debugging it. In the `conn = sqlite3.connect(\"name.db\")` line of code replace your database name with `\":memory:\"`, this will instead create a new database in your computer's RAM so any changes that are made by your code are only stored when the code runs."
   ]
  },
  {
   "cell_type": "code",
   "execution_count": null,
   "metadata": {},
   "outputs": [],
   "source": [
    "# Closing the connection now that we're done\n",
    "# When you're done with a database\n",
    "# be sure to close the connection\n",
    "conn.close()"
   ]
  },
  {
   "cell_type": "markdown",
   "metadata": {},
   "source": [
    "### Getting Data From a Database into `pandas`\n",
    "\n",
    "So far we've gotten a better idea on how relational databases are constructed, and we've introduced some basic `SQL` code.\n",
    "\n",
    "As a data scientist you'll likely not be creating databases but rather pulling data from pre-existing databases. So for the remainder of the notebook we'll see how to get data from a database, and then turn that data into a `pandas` dataframe.\n",
    "\n",
    "#### Looking at Census Data\n",
    "\n",
    "We'll examine reading in data with the `census.sqlite` database. Let's connect to it now."
   ]
  },
  {
   "cell_type": "code",
   "execution_count": null,
   "metadata": {},
   "outputs": [],
   "source": [
    "# conn will be our connection\n",
    "conn = sqlite3.connect('census.sqlite')\n",
    "\n",
    "# Make the cursor\n",
    "c = conn.cursor()"
   ]
  },
  {
   "cell_type": "code",
   "execution_count": null,
   "metadata": {},
   "outputs": [],
   "source": [
    "# Let's print out the tables in the\n",
    "# database\n",
    "\n",
    "# Don't worry about this code, you'll typically know\n",
    "# all the tables in a database before you start querying\n",
    "c.execute('SELECT name FROM sqlite_master where type= \"table\"')\n",
    "\n",
    "print(c.fetchall())"
   ]
  },
  {
   "cell_type": "markdown",
   "metadata": {},
   "source": [
    "We'll practice acessing data from these two dats to learn more about the census data. "
   ]
  },
  {
   "cell_type": "code",
   "execution_count": null,
   "metadata": {},
   "outputs": [],
   "source": [
    "# We can read in an entire table\n",
    "# Let's do that with the state_fact table\n",
    "\n",
    "# This gets all rows from the state_fact table\n",
    "c.execute('SELECT * FROM state_fact')\n",
    "\n",
    "print(c.fetchall())"
   ]
  },
  {
   "cell_type": "code",
   "execution_count": null,
   "metadata": {},
   "outputs": [],
   "source": [
    "# Alright that is difficult to read!\n",
    "# Let's turn it into a dataframe!\n",
    "c.execute(\"SELECT * FROM state_fact\")\n",
    "\n",
    "pd.DataFrame(c.fetchall()).head()"
   ]
  },
  {
   "cell_type": "code",
   "execution_count": null,
   "metadata": {},
   "outputs": [],
   "source": [
    "# Much nicer!\n",
    "# We can also get informative column titles like so\n",
    "c.execute(\"SELECT * FROM state_fact\")\n",
    "\n",
    "# The data we selected from the table comes\n",
    "# with a \"description\", which is the column labels\n",
    "# we can access those with a quick list comprehension\n",
    "state_fact = pd.DataFrame(c.fetchall(), columns = [x[0] for x in c.description])"
   ]
  },
  {
   "cell_type": "code",
   "execution_count": null,
   "metadata": {},
   "outputs": [],
   "source": [
    "# Let's examine the table's first ten entries\n",
    "state_fact.head(10)"
   ]
  },
  {
   "cell_type": "code",
   "execution_count": null,
   "metadata": {},
   "outputs": [],
   "source": [
    "# Now we can query the table in two ways\n",
    "# One way is to use SQL queries\n",
    "# Lets find all the states in census_region 2\n",
    "\n",
    "## The SQL way\n",
    "c.execute('SELECT * FROM state_fact WHERE census_region == 2')\n",
    "\n",
    "# view results as dataframe in state alphabetical order\n",
    "pd.DataFrame(c.fetchall(), columns = [x[0] for x in c.description]).sort_values(\"name\")"
   ]
  },
  {
   "cell_type": "code",
   "execution_count": null,
   "metadata": {},
   "outputs": [],
   "source": [
    "## Now the pandas way\n",
    "# note the census_region was read in as a string not a numeric\n",
    "state_fact.loc[state_fact.census_region == '2',].sort_values(\"name\")"
   ]
  },
  {
   "cell_type": "markdown",
   "metadata": {},
   "source": [
    "#### Practice\n",
    "\n",
    "Now you explore the `census` table in the `census` database. \n",
    "\n",
    "What are the columns?\n",
    "\n",
    "Subset the data to only output the Ohio rows. Do this in two ways, the `SQL` way and the `pandas` way.\n",
    "\n",
    "How do the average ages in Ohio in 2000 and 2008 compare?\n",
    "\n",
    "Now subset the data so that you only have people older than 80 (from all states). Which state has the most people 80 or above?"
   ]
  },
  {
   "cell_type": "code",
   "execution_count": null,
   "metadata": {},
   "outputs": [],
   "source": [
    "## Code here\n",
    "\n",
    "\n",
    "\n",
    "\n",
    "\n"
   ]
  },
  {
   "cell_type": "code",
   "execution_count": null,
   "metadata": {},
   "outputs": [],
   "source": [
    "## Code here\n",
    "\n",
    "\n",
    "\n",
    "\n",
    "\n"
   ]
  },
  {
   "cell_type": "code",
   "execution_count": null,
   "metadata": {},
   "outputs": [],
   "source": [
    "## Code here\n",
    "\n",
    "\n",
    "\n",
    "\n",
    "\n"
   ]
  },
  {
   "cell_type": "code",
   "execution_count": null,
   "metadata": {},
   "outputs": [],
   "source": [
    "## Code here\n",
    "\n",
    "\n",
    "\n",
    "\n",
    "\n"
   ]
  },
  {
   "cell_type": "code",
   "execution_count": null,
   "metadata": {},
   "outputs": [],
   "source": [
    "## Code here\n",
    "\n",
    "\n",
    "\n",
    "\n",
    "\n"
   ]
  },
  {
   "cell_type": "markdown",
   "metadata": {},
   "source": [
    "#### An Aside on `SELECT`\n",
    "\n",
    "So far we've been using `SELECT *`. We can also get specific columns by replacing `*` with specific column names."
   ]
  },
  {
   "cell_type": "code",
   "execution_count": null,
   "metadata": {},
   "outputs": [],
   "source": [
    "# Here we'll only get the state names in census_region 2\n",
    "c.execute('SELECT name FROM state_fact WHERE census_region == 2')\n",
    "\n",
    "# View as a dataframe sorted alphabetically\n",
    "pd.DataFrame(c.fetchall(), columns = [x[0] for x in c.description]).sort_values('name')"
   ]
  },
  {
   "cell_type": "code",
   "execution_count": null,
   "metadata": {},
   "outputs": [],
   "source": [
    "# Close the connection because we're done\n",
    "conn.close()"
   ]
  },
  {
   "cell_type": "markdown",
   "metadata": {},
   "source": [
    "### Why Would I Ever Do Things the `SQL` Way?\n",
    "\n",
    "By now you know a lot of `pandas` and probably not so much `SQL`. So why would you ever want to do things the `SQL` way. There are a few reasons.\n",
    "\n",
    "<ol>\n",
    "    <li>SQL was made to operate on databases, so it tends to be faster on certain tasks like filtering, selecting and sorting. Check out this nice data incubator blog post <a href=\"https://blog.thedataincubator.com/2018/05/sqlite-vs-pandas-performance-benchmarks/\">https://blog.thedataincubator.com/2018/05/sqlite-vs-pandas-performance-benchmarks/</a>.</li>\n",
    "    <li>Our databases were quite small so it wasn't a big deal to turn the entire tables into dataframes. However, imagine a customer database for someone like Amazon, or a census database that contains every single census response. It would be unwise to default to storing this data as a pandas dataframe.</li>\n",
    "    <li>It's better to have two approaches to a problem than just one. So sometimes it's nice to practice the SQL way even if you already have the pandas way.</li>\n",
    "</ol>\n",
    "\n",
    "As with most things the approach you take will depend on the use case. When you approach a problem use your best judgement and if you're unsure find someone with more experience and ask for their advice on which approach to use."
   ]
  },
  {
   "cell_type": "markdown",
   "metadata": {},
   "source": [
    "## An Intro to `sqlalchemy`\n",
    "\n",
    "We'll end our notebook with an introduction to a very popular database package, `sqlalchemy`. This package is widely used in industry settings so it's good for you to at least be slightly familiar with it. \n",
    "\n",
    "`sqlalchemy` was designed so that you can interact with true `SQL` databases in `python`. For the remainder of this notebook we'll see how we can use it to read in data from a database and then turn it into a `pandas` `DataFrame`. If you'd like to learn more check out the docs, <a href=\"https://www.sqlalchemy.org/\">https://www.sqlalchemy.org/</a>.\n",
    "\n",
    "Just like with `sqlite3` we'll go step by step.\n",
    "\n",
    "##### Creating an Engine"
   ]
  },
  {
   "cell_type": "code",
   "execution_count": null,
   "metadata": {},
   "outputs": [],
   "source": [
    "# The first step is to create an engine\n",
    "# The sqlalchemy engine is how we \n",
    "# communicate with the database\n",
    "from sqlalchemy import create_engine"
   ]
  },
  {
   "cell_type": "code",
   "execution_count": null,
   "metadata": {},
   "outputs": [],
   "source": [
    "# When we create the engine we have to tell it\n",
    "# the Dialect, this is the backend language \n",
    "# of the database. For us this is SQLite\n",
    "# We also have to specify a pool, for our purposes\n",
    "# we can think of this as where our database is stored\n",
    "engine = create_engine(\"sqlite:///census.sqlite\")"
   ]
  },
  {
   "cell_type": "markdown",
   "metadata": {},
   "source": [
    "##### Connect to the Database"
   ]
  },
  {
   "cell_type": "code",
   "execution_count": null,
   "metadata": {},
   "outputs": [],
   "source": [
    "# next we have to actually connect the engine\n",
    "# to the database\n",
    "conn = engine.connect()"
   ]
  },
  {
   "cell_type": "markdown",
   "metadata": {},
   "source": [
    "##### Execute a Statment Then Fetch"
   ]
  },
  {
   "cell_type": "code",
   "execution_count": null,
   "metadata": {},
   "outputs": [],
   "source": [
    "# Just like with sqlite3 we can\n",
    "# use the connection to execute a query\n",
    "# and fetch the rows of the data we want\n",
    "\n",
    "# Unline sqlite3 we need to store the execute\n",
    "# because it returns a results_proxy object\n",
    "results_proxy = conn.execute(\"SELECT * FROM state_fact\")\n",
    "\n",
    "# here the column names are stored in the keys \n",
    "# of the results_proxy object\n",
    "pd.DataFrame(results_proxy.fetchall(),columns = results_proxy.keys()).head()"
   ]
  },
  {
   "cell_type": "markdown",
   "metadata": {},
   "source": [
    "##### A Short Cut Using `pandas`"
   ]
  },
  {
   "cell_type": "code",
   "execution_count": null,
   "metadata": {},
   "outputs": [],
   "source": [
    "# pandas offers a nice shortcut called read_sql()\n",
    "# we first input the query statement\n",
    "# then the engine we want to run it\n",
    "pd.read_sql(\"SELECT * FROM state_fact\",\n",
    "               engine).head()"
   ]
  },
  {
   "cell_type": "code",
   "execution_count": null,
   "metadata": {},
   "outputs": [],
   "source": [
    "# The short cut even works with statements that \n",
    "# subset the data further\n",
    "pd.read_sql(\"SELECT name,abbreviation FROM state_fact WHERE census_region == 2\",\n",
    "               engine)"
   ]
  },
  {
   "cell_type": "markdown",
   "metadata": {},
   "source": [
    "##### Close the Connection, Dispose the Engine"
   ]
  },
  {
   "cell_type": "code",
   "execution_count": null,
   "metadata": {},
   "outputs": [],
   "source": [
    "# When we're done we close the connection\n",
    "conn.close()\n",
    "\n",
    "# then dispose the engine\n",
    "engine.dispose()"
   ]
  },
  {
   "cell_type": "markdown",
   "metadata": {},
   "source": [
    "### But I Already Knew How To Do This With `sqlite3`!\n",
    "\n",
    "That might be true, but `sqlite3` is limited to databases where the dialect is `SQLite`. Again this may be sufficient for personal projects, but industries are probably other dialects like PostgreSQL, MySQL, or Oracle for various reasons. These non `SQLite` dialects are supported with `sqlalchemy`, so it's good to have a slight familiarity with it.\n",
    "\n",
    "### Outside Reading\n",
    "We've barely scratched `sqalchemy`. I found these two videos from Data Camp to be a good introduction, <a href = \"https://www.youtube.com/watch?v=i35OSGXt7wk\">https://www.youtube.com/watch?v=i35OSGXt7wk</a>, and <a href=\"https://www.youtube.com/watch?v=G8zhVGuzdOM\">https://www.youtube.com/watch?v=G8zhVGuzdOM</a>. For a deeper dive check out the docs <a href=\"https://www.sqlalchemy.org/\">https://www.sqlalchemy.org/</a>.\n",
    "\n",
    "## That's it!\n",
    "\n",
    "For more relational database practice check out the data gathering homework!"
   ]
  },
  {
   "cell_type": "code",
   "execution_count": null,
   "metadata": {},
   "outputs": [],
   "source": []
  }
 ],
 "metadata": {
  "kernelspec": {
   "display_name": "Python 3",
   "language": "python",
   "name": "python3"
  },
  "language_info": {
   "codemirror_mode": {
    "name": "ipython",
    "version": 3
   },
   "file_extension": ".py",
   "mimetype": "text/x-python",
   "name": "python",
   "nbconvert_exporter": "python",
   "pygments_lexer": "ipython3",
   "version": "3.7.6"
  }
 },
 "nbformat": 4,
 "nbformat_minor": 2
}
