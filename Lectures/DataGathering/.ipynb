{
 "cells": [
  {
   "cell_type": "code",
   "execution_count": null,
   "metadata": {},
   "outputs": [],
   "source": [
    "def GiveRedditCred():\n",
    "    client_id = 'eoJol2d4S0Rrgw'\n",
    "    client_secret = 'You Client Secret'\n",
    "    user_agent = 'User-Agent: chrome:only.using.to.read:v1 (by /u/fsiceangel)'\n",
    "    username = 'fsiceangel'\n",
    "    password = 'Pangding123'"
   ]
  }
 ],
 "metadata": {
  "kernelspec": {
   "display_name": "Python 3",
   "language": "python",
   "name": "python3"
  },
  "language_info": {
   "codemirror_mode": {
    "name": "ipython",
    "version": 3
   },
   "file_extension": ".py",
   "mimetype": "text/x-python",
   "name": "python",
   "nbconvert_exporter": "python",
   "pygments_lexer": "ipython3",
   "version": "3.7.6"
  }
 },
 "nbformat": 4,
 "nbformat_minor": 4
}
